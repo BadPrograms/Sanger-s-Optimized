{
  "nbformat": 4,
  "nbformat_minor": 0,
  "metadata": {
    "colab": {
      "provenance": [],
      "authorship_tag": "ABX9TyNbbCZMO29VUNr5Ufqg5rOT",
      "include_colab_link": true
    },
    "kernelspec": {
      "name": "python3",
      "display_name": "Python 3"
    },
    "language_info": {
      "name": "python"
    }
  },
  "cells": [
    {
      "cell_type": "markdown",
      "metadata": {
        "id": "view-in-github",
        "colab_type": "text"
      },
      "source": [
        "<a href=\"https://colab.research.google.com/github/BadPrograms/Sanger-s-Optimized/blob/main/Sanger's_rule(General_Hebbian_Algorithm).ipynb\" target=\"_parent\"><img src=\"https://colab.research.google.com/assets/colab-badge.svg\" alt=\"Open In Colab\"/></a>"
      ]
    },
    {
      "cell_type": "code",
      "execution_count": null,
      "metadata": {
        "id": "ShjWFBTknp2d"
      },
      "outputs": [],
      "source": [
        "import numpy as np\n",
        "from sklearn.preprocessing import normalize\n",
        "from sklearn.datasets import make_blobs\n",
        "from sklearn.preprocessing import StandardScaler\n",
        "\n",
        "# Set random seed for reproducibility\n",
        "np.random.seed(1000)\n",
        "\n",
        "# Create and scale dataset\n",
        "X, _ = make_blobs(n_samples=10, centers=2, cluster_std=1, random_state=1000)"
      ]
    },
    {
      "cell_type": "code",
      "source": [
        "#scaling of values ( X- mean(X))\n",
        "scaler = StandardScaler(with_std=False)\n",
        "Xs = scaler.fit_transform(X)"
      ],
      "metadata": {
        "id": "G_tbYaTgtVoL"
      },
      "execution_count": null,
      "outputs": []
    },
    {
      "cell_type": "code",
      "source": [
        "Q = np.cov(X.T)\n",
        "eigu, eigv = np.linalg.eig(Q)\n",
        "print(eigv)"
      ],
      "metadata": {
        "id": "7Xef6xSpx3Cv"
      },
      "execution_count": null,
      "outputs": []
    },
    {
      "cell_type": "code",
      "source": [
        "#General Hebbian Algorithm function\n",
        "def gha(X,pcs,learning_rate=0.1,iterations=20000):\n",
        "  t=0\n",
        "  W=np.random.normal(scale=0.1, size=(pcs, len(X[0,:])))\n",
        "  #print(W)\n",
        "  for _ in range(iterations):\n",
        "    dw=np.zeros(W.shape)\n",
        "    y=np.dot(W,X.T)\n",
        "    h=np.dot(y,X)\n",
        "    ah=np.tril(np.dot(y,y.T))\n",
        "    dw=learning_rate/(_+1)*(h-np.dot(ah,W))\n",
        "    W+=dw\n",
        "    W=normalize(W)\n",
        "  return W\n"
      ],
      "metadata": {
        "id": "j8LXGimBnq6h"
      },
      "execution_count": null,
      "outputs": []
    },
    {
      "cell_type": "code",
      "source": [
        "a=gha(Xs,1)\n"
      ],
      "metadata": {
        "id": "Ko_0W7HdpCIl"
      },
      "execution_count": null,
      "outputs": []
    },
    {
      "cell_type": "code",
      "source": [],
      "metadata": {
        "id": "tgtH57Yhx5Pi",
        "colab": {
          "base_uri": "https://localhost:8080/"
        },
        "outputId": "3d3d735b-f782-4485-faa3-e9303b8d477e"
      },
      "execution_count": null,
      "outputs": [
        {
          "output_type": "stream",
          "name": "stdout",
          "text": [
            "[[-0.62181197 -0.78316657]]\n"
          ]
        }
      ]
    },
    {
      "cell_type": "code",
      "source": [],
      "metadata": {
        "id": "xO7RlqMvdksZ"
      },
      "execution_count": null,
      "outputs": []
    }
  ]
}